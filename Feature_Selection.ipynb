{
  "nbformat": 4,
  "nbformat_minor": 0,
  "metadata": {
    "colab": {
      "provenance": []
    },
    "kernelspec": {
      "name": "python3",
      "display_name": "Python 3"
    },
    "language_info": {
      "name": "python"
    }
  },
  "cells": [
    {
      "cell_type": "code",
      "execution_count": null,
      "metadata": {
        "id": "wTLfzswlcZzu"
      },
      "outputs": [],
      "source": [
        "import pandas as pd\n",
        "import seaborn as sns\n",
        "import numpy as np\n",
        "from scipy.stats import f_oneway\n",
        "from scipy.stats import chi2_contingency\n",
        "\n",
        "url = '/content/school-shootings-data.csv'\n",
        "df = pd.read_csv(url)"
      ]
    },
    {
      "cell_type": "code",
      "source": [
        "df.head()"
      ],
      "metadata": {
        "colab": {
          "base_uri": "https://localhost:8080/",
          "height": 359
        },
        "id": "URHRw9R9hF8W",
        "outputId": "e32faf25-fa3d-4bcf-fc31-a9547080dfda"
      },
      "execution_count": null,
      "outputs": [
        {
          "output_type": "execute_result",
          "data": {
            "text/plain": [
              "   uid nces_school_id                  school_name  nces_district_id  \\\n",
              "0    1   080480000707        Columbine High School          804800.0   \n",
              "1    2   220054000422  Scotlandville Middle School         2200540.0   \n",
              "2    3   130441001591         Heritage High School         1304410.0   \n",
              "3    4   421899003847     John Bartram High School         4218990.0   \n",
              "4    5   250279000225       Dorchester High School         2502790.0   \n",
              "\n",
              "                          district_name       date school_year  year  \\\n",
              "0                  Jefferson County R-1  4/20/1999   1998-1999  1999   \n",
              "1  East Baton Rouge Parish School Board  4/22/1999   1998-1999  1999   \n",
              "2                       Rockdale County  5/20/1999   1998-1999  1999   \n",
              "3                  Philadelphia City SD  10/4/1999   1999-2000  1999   \n",
              "4                                Boston  11/3/1999   1999-2000  1999   \n",
              "\n",
              "       time day_of_week  ...        lat        long staffing low_grade  \\\n",
              "0  11:19 AM     Tuesday  ...  39.603910 -105.075000     89.6         9   \n",
              "1  12:30 PM    Thursday  ...  30.529958  -91.169966     39.0         6   \n",
              "2   8:03 AM    Thursday  ...  33.626922  -84.047960     84.0         9   \n",
              "3  10:00 AM      Monday  ...  39.921509  -75.234108     41.0         9   \n",
              "4   7:40 AM   Wednesday  ...  42.285268  -71.075901      NaN         9   \n",
              "\n",
              "   high_grade  lunch                   county state_fips  county_fips ulocale  \n",
              "0          12     41         Jefferson County          8         8059    21.0  \n",
              "1           8    495  East Baton Rouge Parish         22        22033    12.0  \n",
              "2          12    125          Rockdale County         13        13247    21.0  \n",
              "3          12   2007      Philadelphia County         42        42101    11.0  \n",
              "4          12    543           Suffolk County         25        25025    11.0  \n",
              "\n",
              "[5 rows x 50 columns]"
            ],
            "text/html": [
              "\n",
              "  <div id=\"df-8ec8af2b-bee8-4533-96cb-bbb213bc7538\" class=\"colab-df-container\">\n",
              "    <div>\n",
              "<style scoped>\n",
              "    .dataframe tbody tr th:only-of-type {\n",
              "        vertical-align: middle;\n",
              "    }\n",
              "\n",
              "    .dataframe tbody tr th {\n",
              "        vertical-align: top;\n",
              "    }\n",
              "\n",
              "    .dataframe thead th {\n",
              "        text-align: right;\n",
              "    }\n",
              "</style>\n",
              "<table border=\"1\" class=\"dataframe\">\n",
              "  <thead>\n",
              "    <tr style=\"text-align: right;\">\n",
              "      <th></th>\n",
              "      <th>uid</th>\n",
              "      <th>nces_school_id</th>\n",
              "      <th>school_name</th>\n",
              "      <th>nces_district_id</th>\n",
              "      <th>district_name</th>\n",
              "      <th>date</th>\n",
              "      <th>school_year</th>\n",
              "      <th>year</th>\n",
              "      <th>time</th>\n",
              "      <th>day_of_week</th>\n",
              "      <th>...</th>\n",
              "      <th>lat</th>\n",
              "      <th>long</th>\n",
              "      <th>staffing</th>\n",
              "      <th>low_grade</th>\n",
              "      <th>high_grade</th>\n",
              "      <th>lunch</th>\n",
              "      <th>county</th>\n",
              "      <th>state_fips</th>\n",
              "      <th>county_fips</th>\n",
              "      <th>ulocale</th>\n",
              "    </tr>\n",
              "  </thead>\n",
              "  <tbody>\n",
              "    <tr>\n",
              "      <th>0</th>\n",
              "      <td>1</td>\n",
              "      <td>080480000707</td>\n",
              "      <td>Columbine High School</td>\n",
              "      <td>804800.0</td>\n",
              "      <td>Jefferson County R-1</td>\n",
              "      <td>4/20/1999</td>\n",
              "      <td>1998-1999</td>\n",
              "      <td>1999</td>\n",
              "      <td>11:19 AM</td>\n",
              "      <td>Tuesday</td>\n",
              "      <td>...</td>\n",
              "      <td>39.603910</td>\n",
              "      <td>-105.075000</td>\n",
              "      <td>89.6</td>\n",
              "      <td>9</td>\n",
              "      <td>12</td>\n",
              "      <td>41</td>\n",
              "      <td>Jefferson County</td>\n",
              "      <td>8</td>\n",
              "      <td>8059</td>\n",
              "      <td>21.0</td>\n",
              "    </tr>\n",
              "    <tr>\n",
              "      <th>1</th>\n",
              "      <td>2</td>\n",
              "      <td>220054000422</td>\n",
              "      <td>Scotlandville Middle School</td>\n",
              "      <td>2200540.0</td>\n",
              "      <td>East Baton Rouge Parish School Board</td>\n",
              "      <td>4/22/1999</td>\n",
              "      <td>1998-1999</td>\n",
              "      <td>1999</td>\n",
              "      <td>12:30 PM</td>\n",
              "      <td>Thursday</td>\n",
              "      <td>...</td>\n",
              "      <td>30.529958</td>\n",
              "      <td>-91.169966</td>\n",
              "      <td>39.0</td>\n",
              "      <td>6</td>\n",
              "      <td>8</td>\n",
              "      <td>495</td>\n",
              "      <td>East Baton Rouge Parish</td>\n",
              "      <td>22</td>\n",
              "      <td>22033</td>\n",
              "      <td>12.0</td>\n",
              "    </tr>\n",
              "    <tr>\n",
              "      <th>2</th>\n",
              "      <td>3</td>\n",
              "      <td>130441001591</td>\n",
              "      <td>Heritage High School</td>\n",
              "      <td>1304410.0</td>\n",
              "      <td>Rockdale County</td>\n",
              "      <td>5/20/1999</td>\n",
              "      <td>1998-1999</td>\n",
              "      <td>1999</td>\n",
              "      <td>8:03 AM</td>\n",
              "      <td>Thursday</td>\n",
              "      <td>...</td>\n",
              "      <td>33.626922</td>\n",
              "      <td>-84.047960</td>\n",
              "      <td>84.0</td>\n",
              "      <td>9</td>\n",
              "      <td>12</td>\n",
              "      <td>125</td>\n",
              "      <td>Rockdale County</td>\n",
              "      <td>13</td>\n",
              "      <td>13247</td>\n",
              "      <td>21.0</td>\n",
              "    </tr>\n",
              "    <tr>\n",
              "      <th>3</th>\n",
              "      <td>4</td>\n",
              "      <td>421899003847</td>\n",
              "      <td>John Bartram High School</td>\n",
              "      <td>4218990.0</td>\n",
              "      <td>Philadelphia City SD</td>\n",
              "      <td>10/4/1999</td>\n",
              "      <td>1999-2000</td>\n",
              "      <td>1999</td>\n",
              "      <td>10:00 AM</td>\n",
              "      <td>Monday</td>\n",
              "      <td>...</td>\n",
              "      <td>39.921509</td>\n",
              "      <td>-75.234108</td>\n",
              "      <td>41.0</td>\n",
              "      <td>9</td>\n",
              "      <td>12</td>\n",
              "      <td>2007</td>\n",
              "      <td>Philadelphia County</td>\n",
              "      <td>42</td>\n",
              "      <td>42101</td>\n",
              "      <td>11.0</td>\n",
              "    </tr>\n",
              "    <tr>\n",
              "      <th>4</th>\n",
              "      <td>5</td>\n",
              "      <td>250279000225</td>\n",
              "      <td>Dorchester High School</td>\n",
              "      <td>2502790.0</td>\n",
              "      <td>Boston</td>\n",
              "      <td>11/3/1999</td>\n",
              "      <td>1999-2000</td>\n",
              "      <td>1999</td>\n",
              "      <td>7:40 AM</td>\n",
              "      <td>Wednesday</td>\n",
              "      <td>...</td>\n",
              "      <td>42.285268</td>\n",
              "      <td>-71.075901</td>\n",
              "      <td>NaN</td>\n",
              "      <td>9</td>\n",
              "      <td>12</td>\n",
              "      <td>543</td>\n",
              "      <td>Suffolk County</td>\n",
              "      <td>25</td>\n",
              "      <td>25025</td>\n",
              "      <td>11.0</td>\n",
              "    </tr>\n",
              "  </tbody>\n",
              "</table>\n",
              "<p>5 rows × 50 columns</p>\n",
              "</div>\n",
              "    <div class=\"colab-df-buttons\">\n",
              "\n",
              "  <div class=\"colab-df-container\">\n",
              "    <button class=\"colab-df-convert\" onclick=\"convertToInteractive('df-8ec8af2b-bee8-4533-96cb-bbb213bc7538')\"\n",
              "            title=\"Convert this dataframe to an interactive table.\"\n",
              "            style=\"display:none;\">\n",
              "\n",
              "  <svg xmlns=\"http://www.w3.org/2000/svg\" height=\"24px\" viewBox=\"0 -960 960 960\">\n",
              "    <path d=\"M120-120v-720h720v720H120Zm60-500h600v-160H180v160Zm220 220h160v-160H400v160Zm0 220h160v-160H400v160ZM180-400h160v-160H180v160Zm440 0h160v-160H620v160ZM180-180h160v-160H180v160Zm440 0h160v-160H620v160Z\"/>\n",
              "  </svg>\n",
              "    </button>\n",
              "\n",
              "  <style>\n",
              "    .colab-df-container {\n",
              "      display:flex;\n",
              "      gap: 12px;\n",
              "    }\n",
              "\n",
              "    .colab-df-convert {\n",
              "      background-color: #E8F0FE;\n",
              "      border: none;\n",
              "      border-radius: 50%;\n",
              "      cursor: pointer;\n",
              "      display: none;\n",
              "      fill: #1967D2;\n",
              "      height: 32px;\n",
              "      padding: 0 0 0 0;\n",
              "      width: 32px;\n",
              "    }\n",
              "\n",
              "    .colab-df-convert:hover {\n",
              "      background-color: #E2EBFA;\n",
              "      box-shadow: 0px 1px 2px rgba(60, 64, 67, 0.3), 0px 1px 3px 1px rgba(60, 64, 67, 0.15);\n",
              "      fill: #174EA6;\n",
              "    }\n",
              "\n",
              "    .colab-df-buttons div {\n",
              "      margin-bottom: 4px;\n",
              "    }\n",
              "\n",
              "    [theme=dark] .colab-df-convert {\n",
              "      background-color: #3B4455;\n",
              "      fill: #D2E3FC;\n",
              "    }\n",
              "\n",
              "    [theme=dark] .colab-df-convert:hover {\n",
              "      background-color: #434B5C;\n",
              "      box-shadow: 0px 1px 3px 1px rgba(0, 0, 0, 0.15);\n",
              "      filter: drop-shadow(0px 1px 2px rgba(0, 0, 0, 0.3));\n",
              "      fill: #FFFFFF;\n",
              "    }\n",
              "  </style>\n",
              "\n",
              "    <script>\n",
              "      const buttonEl =\n",
              "        document.querySelector('#df-8ec8af2b-bee8-4533-96cb-bbb213bc7538 button.colab-df-convert');\n",
              "      buttonEl.style.display =\n",
              "        google.colab.kernel.accessAllowed ? 'block' : 'none';\n",
              "\n",
              "      async function convertToInteractive(key) {\n",
              "        const element = document.querySelector('#df-8ec8af2b-bee8-4533-96cb-bbb213bc7538');\n",
              "        const dataTable =\n",
              "          await google.colab.kernel.invokeFunction('convertToInteractive',\n",
              "                                                    [key], {});\n",
              "        if (!dataTable) return;\n",
              "\n",
              "        const docLinkHtml = 'Like what you see? Visit the ' +\n",
              "          '<a target=\"_blank\" href=https://colab.research.google.com/notebooks/data_table.ipynb>data table notebook</a>'\n",
              "          + ' to learn more about interactive tables.';\n",
              "        element.innerHTML = '';\n",
              "        dataTable['output_type'] = 'display_data';\n",
              "        await google.colab.output.renderOutput(dataTable, element);\n",
              "        const docLink = document.createElement('div');\n",
              "        docLink.innerHTML = docLinkHtml;\n",
              "        element.appendChild(docLink);\n",
              "      }\n",
              "    </script>\n",
              "  </div>\n",
              "\n",
              "\n",
              "<div id=\"df-b94f73d3-3fdc-4604-a609-923a7944c201\">\n",
              "  <button class=\"colab-df-quickchart\" onclick=\"quickchart('df-b94f73d3-3fdc-4604-a609-923a7944c201')\"\n",
              "            title=\"Suggest charts.\"\n",
              "            style=\"display:none;\">\n",
              "\n",
              "<svg xmlns=\"http://www.w3.org/2000/svg\" height=\"24px\"viewBox=\"0 0 24 24\"\n",
              "     width=\"24px\">\n",
              "    <g>\n",
              "        <path d=\"M19 3H5c-1.1 0-2 .9-2 2v14c0 1.1.9 2 2 2h14c1.1 0 2-.9 2-2V5c0-1.1-.9-2-2-2zM9 17H7v-7h2v7zm4 0h-2V7h2v10zm4 0h-2v-4h2v4z\"/>\n",
              "    </g>\n",
              "</svg>\n",
              "  </button>\n",
              "\n",
              "<style>\n",
              "  .colab-df-quickchart {\n",
              "      --bg-color: #E8F0FE;\n",
              "      --fill-color: #1967D2;\n",
              "      --hover-bg-color: #E2EBFA;\n",
              "      --hover-fill-color: #174EA6;\n",
              "      --disabled-fill-color: #AAA;\n",
              "      --disabled-bg-color: #DDD;\n",
              "  }\n",
              "\n",
              "  [theme=dark] .colab-df-quickchart {\n",
              "      --bg-color: #3B4455;\n",
              "      --fill-color: #D2E3FC;\n",
              "      --hover-bg-color: #434B5C;\n",
              "      --hover-fill-color: #FFFFFF;\n",
              "      --disabled-bg-color: #3B4455;\n",
              "      --disabled-fill-color: #666;\n",
              "  }\n",
              "\n",
              "  .colab-df-quickchart {\n",
              "    background-color: var(--bg-color);\n",
              "    border: none;\n",
              "    border-radius: 50%;\n",
              "    cursor: pointer;\n",
              "    display: none;\n",
              "    fill: var(--fill-color);\n",
              "    height: 32px;\n",
              "    padding: 0;\n",
              "    width: 32px;\n",
              "  }\n",
              "\n",
              "  .colab-df-quickchart:hover {\n",
              "    background-color: var(--hover-bg-color);\n",
              "    box-shadow: 0 1px 2px rgba(60, 64, 67, 0.3), 0 1px 3px 1px rgba(60, 64, 67, 0.15);\n",
              "    fill: var(--button-hover-fill-color);\n",
              "  }\n",
              "\n",
              "  .colab-df-quickchart-complete:disabled,\n",
              "  .colab-df-quickchart-complete:disabled:hover {\n",
              "    background-color: var(--disabled-bg-color);\n",
              "    fill: var(--disabled-fill-color);\n",
              "    box-shadow: none;\n",
              "  }\n",
              "\n",
              "  .colab-df-spinner {\n",
              "    border: 2px solid var(--fill-color);\n",
              "    border-color: transparent;\n",
              "    border-bottom-color: var(--fill-color);\n",
              "    animation:\n",
              "      spin 1s steps(1) infinite;\n",
              "  }\n",
              "\n",
              "  @keyframes spin {\n",
              "    0% {\n",
              "      border-color: transparent;\n",
              "      border-bottom-color: var(--fill-color);\n",
              "      border-left-color: var(--fill-color);\n",
              "    }\n",
              "    20% {\n",
              "      border-color: transparent;\n",
              "      border-left-color: var(--fill-color);\n",
              "      border-top-color: var(--fill-color);\n",
              "    }\n",
              "    30% {\n",
              "      border-color: transparent;\n",
              "      border-left-color: var(--fill-color);\n",
              "      border-top-color: var(--fill-color);\n",
              "      border-right-color: var(--fill-color);\n",
              "    }\n",
              "    40% {\n",
              "      border-color: transparent;\n",
              "      border-right-color: var(--fill-color);\n",
              "      border-top-color: var(--fill-color);\n",
              "    }\n",
              "    60% {\n",
              "      border-color: transparent;\n",
              "      border-right-color: var(--fill-color);\n",
              "    }\n",
              "    80% {\n",
              "      border-color: transparent;\n",
              "      border-right-color: var(--fill-color);\n",
              "      border-bottom-color: var(--fill-color);\n",
              "    }\n",
              "    90% {\n",
              "      border-color: transparent;\n",
              "      border-bottom-color: var(--fill-color);\n",
              "    }\n",
              "  }\n",
              "</style>\n",
              "\n",
              "  <script>\n",
              "    async function quickchart(key) {\n",
              "      const quickchartButtonEl =\n",
              "        document.querySelector('#' + key + ' button');\n",
              "      quickchartButtonEl.disabled = true;  // To prevent multiple clicks.\n",
              "      quickchartButtonEl.classList.add('colab-df-spinner');\n",
              "      try {\n",
              "        const charts = await google.colab.kernel.invokeFunction(\n",
              "            'suggestCharts', [key], {});\n",
              "      } catch (error) {\n",
              "        console.error('Error during call to suggestCharts:', error);\n",
              "      }\n",
              "      quickchartButtonEl.classList.remove('colab-df-spinner');\n",
              "      quickchartButtonEl.classList.add('colab-df-quickchart-complete');\n",
              "    }\n",
              "    (() => {\n",
              "      let quickchartButtonEl =\n",
              "        document.querySelector('#df-b94f73d3-3fdc-4604-a609-923a7944c201 button');\n",
              "      quickchartButtonEl.style.display =\n",
              "        google.colab.kernel.accessAllowed ? 'block' : 'none';\n",
              "    })();\n",
              "  </script>\n",
              "</div>\n",
              "    </div>\n",
              "  </div>\n"
            ]
          },
          "metadata": {},
          "execution_count": 5
        }
      ]
    },
    {
      "cell_type": "markdown",
      "source": [
        "**Pearson's Corelation**\n",
        "\n",
        "\n",
        "\n",
        "![image.png](data:image/png;base64,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)"
      ],
      "metadata": {
        "id": "f-A6xYF9sxXk"
      }
    },
    {
      "cell_type": "code",
      "source": [
        "# Separate the target variable\n",
        "data= df.copy()\n",
        "\n",
        "# Calculate Pearson's correlation coefficients\n",
        "correlation_matrix = np.abs(data.corr())\n",
        "\n",
        "# Set a correlation threshold\n",
        "correlation_threshold = 0.5\n",
        "\n",
        "# Select features with correlation above the threshold to 'injured'\n",
        "selected_features = correlation_matrix['injured'][correlation_matrix['injured'] > correlation_threshold]\n",
        "\n",
        "# Filter the dataset to keep only the selected features\n",
        "filtered = data[selected_features.index]\n",
        "\n",
        "# Print the selected features\n",
        "print(\"Selected Features:\")\n",
        "print(selected_features.index)"
      ],
      "metadata": {
        "colab": {
          "base_uri": "https://localhost:8080/"
        },
        "id": "rQgMhx-HhK_Z",
        "outputId": "5d35ac6d-cfbd-4518-83a0-34e8971f95de"
      },
      "execution_count": null,
      "outputs": [
        {
          "output_type": "stream",
          "name": "stdout",
          "text": [
            "Selected Features:\n",
            "Index(['killed', 'injured', 'casualties', 'shooter_deceased2'], dtype='object')\n"
          ]
        },
        {
          "output_type": "stream",
          "name": "stderr",
          "text": [
            "<ipython-input-15-7dacef829512>:5: FutureWarning: The default value of numeric_only in DataFrame.corr is deprecated. In a future version, it will default to False. Select only valid columns or specify the value of numeric_only to silence this warning.\n",
            "  correlation_matrix = np.abs(data.corr())\n"
          ]
        }
      ]
    },
    {
      "cell_type": "markdown",
      "source": [
        "***INFERENCE :***\n",
        "\n",
        "killed: This feature has a relatively high positive correlation with the 'injured' column. In other words, as the number of people killed in an incident increases, the number of people injured also tends to increase.\n",
        "\n",
        "injured: This is the target variable, and it has a perfect correlation of 1.0 with itself since it's being compared to itself. Therefore, it's expected to be included in the selected features.\n",
        "\n",
        "casualties: This feature also has a relatively high positive correlation with the 'injured' column. It represents the total number of casualties (the sum of killed and injured), so it's naturally correlated with the 'injured' column.\n",
        "\n",
        "shooter_deceased2: This feature appears to have some positive correlation with the 'injured' column. It suggests that when the second shooter is deceased, there might be a tendency for a higher number of injuries."
      ],
      "metadata": {
        "id": "eIY9vQzjoyP7"
      }
    },
    {
      "cell_type": "code",
      "source": [
        "print(df.columns)"
      ],
      "metadata": {
        "colab": {
          "base_uri": "https://localhost:8080/"
        },
        "id": "Y0gGtxYpfd8b",
        "outputId": "56288ff7-cd4f-48cc-fa3e-c85c17089136"
      },
      "execution_count": null,
      "outputs": [
        {
          "output_type": "stream",
          "name": "stdout",
          "text": [
            "Index(['uid', 'nces_school_id', 'school_name', 'nces_district_id',\n",
            "       'district_name', 'date', 'school_year', 'year', 'time', 'day_of_week',\n",
            "       'city', 'state', 'school_type', 'enrollment', 'killed', 'injured',\n",
            "       'casualties', 'shooting_type', 'age_shooter1', 'gender_shooter1',\n",
            "       'race_ethnicity_shooter1', 'shooter_relationship1', 'shooter_deceased1',\n",
            "       'deceased_notes1', 'age_shooter2', 'gender_shooter2',\n",
            "       'race_ethnicity_shooter2', 'shooter_relationship2', 'shooter_deceased2',\n",
            "       'deceased_notes2', 'white', 'black', 'hispanic', 'asian',\n",
            "       'american_indian_alaska_native', 'hawaiian_native_pacific_islander',\n",
            "       'two_or_more', 'resource_officer', 'weapon', 'weapon_source', 'lat',\n",
            "       'long', 'staffing', 'low_grade', 'high_grade', 'lunch', 'county',\n",
            "       'state_fips', 'county_fips', 'ulocale'],\n",
            "      dtype='object')\n"
          ]
        }
      ]
    },
    {
      "cell_type": "markdown",
      "source": [
        "**ANOVA**"
      ],
      "metadata": {
        "id": "bzhEEv3MlHgI"
      }
    },
    {
      "cell_type": "code",
      "source": [
        "# Specify the continuous feature and the target variable\n",
        "continuous_feature = 'injured'\n",
        "target_variable = 'day_of_week'\n",
        "\n",
        "# Group data by the target variable\n",
        "groups = [df[continuous_feature][df[target_variable] == class_label] for class_label in df[target_variable].unique()]\n",
        "\n",
        "# Perform one-way ANOVA\n",
        "f_statistic, p_value = f_oneway(*groups)\n",
        "\n",
        "# Display ANOVA results\n",
        "print(f\"F-statistic: {f_statistic}\")\n",
        "print(f\"P-value: {p_value}\")"
      ],
      "metadata": {
        "colab": {
          "base_uri": "https://localhost:8080/"
        },
        "id": "Z-7XaF0RnB_A",
        "outputId": "af1e8d64-bcf9-4fa0-97bd-fd181b05588e"
      },
      "execution_count": null,
      "outputs": [
        {
          "output_type": "stream",
          "name": "stdout",
          "text": [
            "F-statistic: 1.6377330701202242\n",
            "P-value: 0.16401373236801536\n"
          ]
        }
      ]
    },
    {
      "cell_type": "markdown",
      "source": [
        "**Inference**\n",
        "\n",
        "\n",
        "Null Hypothesis (H0): There is no significant difference in the 'injured' variable across different days of the week.\n",
        "\n",
        "Alternative Hypothesis (H1): There are significant differences in the 'injured' variable across different days of the week.\n",
        "\n",
        "Since the p-value is greater than the significance level (0.05), we do not have enough evidence to reject the null hypothesis. In other words, there is no statistically significant evidence to conclude that the 'injured' variable varies significantly across different days of the week."
      ],
      "metadata": {
        "id": "cU4XgVuLjZh5"
      }
    },
    {
      "cell_type": "markdown",
      "source": [
        "**CHI SQUARED**\n",
        "\n",
        "![image.png](data:image/png;base64,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)"
      ],
      "metadata": {
        "id": "uqUCuGAimUad"
      }
    },
    {
      "cell_type": "code",
      "source": [
        "# Create a contingency table\n",
        "contingency_table = pd.crosstab(df['gender_shooter1'], df['shooter_deceased1' ])\n",
        "\n",
        "# Perform the Chi-Squared Test\n",
        "chi2, p, dof, expected = chi2_contingency(contingency_table)\n",
        "\n",
        "# Display the Chi-Squared Test results\n",
        "print(f\"Chi-Squared Value: {chi2}\")\n",
        "print(f\"P-value: {p}\")\n",
        "print(f\"Degrees of Freedom: {dof}\")\n",
        "print(\"Contingency Table:\")\n",
        "print(contingency_table)"
      ],
      "metadata": {
        "colab": {
          "base_uri": "https://localhost:8080/"
        },
        "id": "mUPIUGqRkH_0",
        "outputId": "fd6ae3dc-775b-4b6f-e8e2-d6e298c44675"
      },
      "execution_count": null,
      "outputs": [
        {
          "output_type": "stream",
          "name": "stdout",
          "text": [
            "Chi-Squared Value: 1.2566257272139627\n",
            "P-value: 0.5334911144358873\n",
            "Degrees of Freedom: 2\n",
            "Contingency Table:\n",
            "shooter_deceased1  0.0  1.0\n",
            "gender_shooter1            \n",
            "f                    8    3\n",
            "h                    1    0\n",
            "m                  195   36\n"
          ]
        }
      ]
    },
    {
      "cell_type": "code",
      "source": [
        "df = df[df['gender_shooter1'] != 'h']"
      ],
      "metadata": {
        "id": "09Q8JrFymjNN"
      },
      "execution_count": null,
      "outputs": []
    },
    {
      "cell_type": "code",
      "source": [
        "# Create a contingency table\n",
        "contingency_table = pd.crosstab(df['gender_shooter1'], df['shooter_deceased1' ])\n",
        "\n",
        "# Perform the Chi-Squared Test\n",
        "chi2, p, dof, expected = chi2_contingency(contingency_table)\n",
        "\n",
        "# Display the Chi-Squared Test results\n",
        "print(f\"Chi-Squared Value: {chi2}\")\n",
        "print(f\"P-value: {p}\")\n",
        "print(f\"Degrees of Freedom: {dof}\")\n",
        "print(\"Contingency Table:\")\n",
        "print(contingency_table)"
      ],
      "metadata": {
        "colab": {
          "base_uri": "https://localhost:8080/"
        },
        "id": "VNxsIP4JnlcY",
        "outputId": "051245d6-d4ba-41f4-fbfd-12995bc4d3c3"
      },
      "execution_count": null,
      "outputs": [
        {
          "output_type": "stream",
          "name": "stdout",
          "text": [
            "Chi-Squared Value: 0.3726279194259488\n",
            "P-value: 0.5415752999850838\n",
            "Degrees of Freedom: 1\n",
            "Contingency Table:\n",
            "shooter_deceased1  0.0  1.0\n",
            "gender_shooter1            \n",
            "f                    8    3\n",
            "m                  195   36\n"
          ]
        }
      ]
    },
    {
      "cell_type": "markdown",
      "source": [
        "**Inference**\n",
        "\n",
        "The Chi-Squared Test results indicate that there is no statistically significant relationship between the variables 'gender_shooter1' and 'shooter_deceased1' in the dataset. The Chi-Squared statistic is 0.3726 with 1 degree of freedom, and the p-value is 0.5416, which is greater than the typical significance level of 0.05. Therefore, we fail to reject the null hypothesis, suggesting that these two categorical variables are independent of each other."
      ],
      "metadata": {
        "id": "clmhHs5RiSfO"
      }
    },
    {
      "cell_type": "code",
      "source": [],
      "metadata": {
        "id": "YHkNvsWEnszJ"
      },
      "execution_count": null,
      "outputs": []
    }
  ]
}